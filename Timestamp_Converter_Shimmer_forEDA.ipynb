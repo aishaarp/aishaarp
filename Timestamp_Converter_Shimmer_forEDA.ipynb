{
  "nbformat": 4,
  "nbformat_minor": 0,
  "metadata": {
    "colab": {
      "provenance": [],
      "authorship_tag": "ABX9TyMCc1RVmSlu+TTkurq8VrJn"
    },
    "kernelspec": {
      "name": "python3",
      "display_name": "Python 3"
    },
    "language_info": {
      "name": "python"
    }
  },
  "cells": [
    {
      "cell_type": "code",
      "source": [
        "from google.colab import drive\n",
        "drive.mount('/content/drive')"
      ],
      "metadata": {
        "colab": {
          "base_uri": "https://localhost:8080/"
        },
        "id": "aC3xbvUnoGFR",
        "outputId": "8d7b6bc5-7cf5-4b5c-ff2a-852cdc8ea46f"
      },
      "execution_count": null,
      "outputs": [
        {
          "output_type": "stream",
          "name": "stdout",
          "text": [
            "Mounted at /content/drive\n"
          ]
        }
      ]
    },
    {
      "cell_type": "markdown",
      "source": [
        "Convert timestamp from Consensys (UNIX) to sec.\n",
        "\n",
        "1. Make sure the file in csv\n",
        "2. Make sure the column for time named 'Timestamp'\n",
        "3. Result will be in .txt for Ledalab use.\n",
        "\n"
      ],
      "metadata": {
        "id": "CICXMc7n7F4M"
      }
    },
    {
      "cell_type": "code",
      "execution_count": null,
      "metadata": {
        "colab": {
          "base_uri": "https://localhost:8080/"
        },
        "id": "ShbrUpkpnr5Z",
        "outputId": "ee307477-2100-417e-bd5a-c381462de236"
      },
      "outputs": [
        {
          "output_type": "stream",
          "name": "stdout",
          "text": [
            "Conversion complete! File saved as 'final_data_for_ledalab.txt'.\n"
          ]
        }
      ],
      "source": [
        "#To convert one file at a time\n",
        "\n",
        "import pandas as pd\n",
        "\n",
        "# Load your shimmer data file\n",
        "data = pd.read_csv(\"P1_PLEASANT.csv\")  # Replace with your actual file\n",
        "\n",
        "# Convert timestamps from milliseconds to seconds\n",
        "data['Timestamp_Seconds'] = data['Timestamp'] / 1000\n",
        "\n",
        "# Normalize timestamps to start at 0\n",
        "start_time = data['Timestamp_Seconds'].iloc[0]\n",
        "data['Normalized_Seconds'] = data['Timestamp_Seconds'] - start_time\n",
        "\n",
        "# Select only the normalized seconds and EDA columns\n",
        "final_data = data[['Normalized_Seconds', 'EDA']]  # Replace 'EDA' with the actual column name for EDA in your file\n",
        "\n",
        "# Save the final result without headers or index\n",
        "final_data.to_csv(\"final_data_for_ledalab.txt\", index=False, header=False, sep='\\t')\n",
        "\n",
        "print(\"Conversion complete. File saved as 'final_data_ledalab.txt'.\")"
      ]
    },
    {
      "cell_type": "code",
      "source": [
        "#To convert multiple files\n",
        "\n",
        "import os\n",
        "import pandas as pd\n",
        "\n",
        "# Directory containing the files to be processed\n",
        "input_directory = \"/content/drive/MyDrive/EDA\"  # Replace with your folder path\n",
        "output_directory = \"/content/drive/MyDrive/EDA_Processed\"  # Replace with your output folder path\n",
        "\n",
        "# Ensure the output directory exists\n",
        "os.makedirs(output_directory, exist_ok=True)\n",
        "\n",
        "# Process each file in the input directory\n",
        "for file_name in os.listdir(input_directory):\n",
        "    if file_name.endswith(\".csv\"):  # Adjust for your file type (e.g., .txt, .csv)\n",
        "        print(f\"Processing file: {file_name}\")\n",
        "\n",
        "        # Full path to the input file\n",
        "        input_file_path = os.path.join(input_directory, file_name)\n",
        "\n",
        "        # Load the file\n",
        "        data = pd.read_csv(input_file_path)  # Adjust separator if needed (e.g., sep=\"\\t\")\n",
        "\n",
        "        # Convert milliseconds to seconds\n",
        "        data['Time_Seconds'] = data['Timestamp'] / 1000\n",
        "\n",
        "        # Normalize to start at 0 seconds\n",
        "        start_time = data['Time_Seconds'].iloc[0]\n",
        "        data['Normalized_Seconds'] = data['Time_Seconds'] - start_time\n",
        "\n",
        "        # Select only relevant columns\n",
        "        final_data = data[['Normalized_Seconds', 'EDA']]  # Replace 'EDA' with your column name\n",
        "\n",
        "        # Create an output file path\n",
        "        output_file_name = file_name.replace(\".csv\", \"_converted.txt\")  # Adjust extensions if needed\n",
        "        output_file_path = os.path.join(output_directory, output_file_name)\n",
        "\n",
        "        # Save the processed file without headers or index\n",
        "        final_data.to_csv(output_file_path, index=False, header=False, sep='\\t')\n",
        "\n",
        "        print(f\"File saved: {output_file_name}\")\n",
        "\n",
        "print(\"Conversion complete. Please check output file\")\n"
      ],
      "metadata": {
        "colab": {
          "base_uri": "https://localhost:8080/"
        },
        "id": "s91Q-lbO8uEt",
        "outputId": "53cc8fb0-146e-41a9-8f88-3cc2291083eb"
      },
      "execution_count": null,
      "outputs": [
        {
          "output_type": "stream",
          "name": "stdout",
          "text": [
            "Processing file: P1_PLEASANT.csv\n",
            "File saved: P1_PLEASANT_converted.txt\n",
            "Processing file: coba_Session1_PMP02_Calibrated_SD.csv\n",
            "File saved: coba_Session1_PMP02_Calibrated_SD_converted.txt\n",
            "Berhasil, berhasil, horeee.\n"
          ]
        }
      ]
    }
  ]
}